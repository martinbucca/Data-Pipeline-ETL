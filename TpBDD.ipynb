{
  "cells": [
    {
      "cell_type": "code",
      "execution_count": 1,
      "metadata": {
        "id": "0rVEi6ZQsG9R"
      },
      "outputs": [],
      "source": [
        "import pandas as pd\n",
        "import matplotlib.pyplot as plt\n",
        "import numpy as np\n",
        "import datetime\n",
        "import sqlite3"
      ]
    },
    {
      "cell_type": "markdown",
      "metadata": {
        "id": "LPtiK4RDrZrK"
      },
      "source": [
        "# Carga de datos"
      ]
    },
    {
      "cell_type": "markdown",
      "metadata": {
        "id": "0xQUBvQlctuB"
      },
      "source": [
        "Elegimos el datasest \"steam-games.csv\", que contiene todos los datos de todos los juegos que hay en la plataforma de distribución digital de videojuegos Steam hasta mayo de 2024 inclusive."
      ]
    },
    {
      "cell_type": "code",
      "execution_count": 2,
      "metadata": {
        "colab": {
          "base_uri": "https://localhost:8080/"
        },
        "id": "aD24WMXd9col",
        "outputId": "26198fee-5804-441c-cbcd-c60e42686f5d"
      },
      "outputs": [
        {
          "data": {
            "text/html": [
              "<div>\n",
              "<style scoped>\n",
              "    .dataframe tbody tr th:only-of-type {\n",
              "        vertical-align: middle;\n",
              "    }\n",
              "\n",
              "    .dataframe tbody tr th {\n",
              "        vertical-align: top;\n",
              "    }\n",
              "\n",
              "    .dataframe thead th {\n",
              "        text-align: right;\n",
              "    }\n",
              "</style>\n",
              "<table border=\"1\" class=\"dataframe\">\n",
              "  <thead>\n",
              "    <tr style=\"text-align: right;\">\n",
              "      <th></th>\n",
              "      <th>app_id</th>\n",
              "      <th>title</th>\n",
              "      <th>release_date</th>\n",
              "      <th>genres</th>\n",
              "      <th>categories</th>\n",
              "      <th>developer</th>\n",
              "      <th>publisher</th>\n",
              "      <th>original_price</th>\n",
              "      <th>discount_percentage</th>\n",
              "      <th>discounted_price</th>\n",
              "      <th>...</th>\n",
              "      <th>win_support</th>\n",
              "      <th>mac_support</th>\n",
              "      <th>linux_support</th>\n",
              "      <th>awards</th>\n",
              "      <th>overall_review</th>\n",
              "      <th>overall_review_%</th>\n",
              "      <th>overall_review_count</th>\n",
              "      <th>recent_review</th>\n",
              "      <th>recent_review_%</th>\n",
              "      <th>recent_review_count</th>\n",
              "    </tr>\n",
              "  </thead>\n",
              "  <tbody>\n",
              "    <tr>\n",
              "      <th>0</th>\n",
              "      <td>730</td>\n",
              "      <td>Counter-Strike 2</td>\n",
              "      <td>21 Aug, 2012</td>\n",
              "      <td>Action, Free to Play</td>\n",
              "      <td>Cross-Platform Multiplayer, Steam Trading Card...</td>\n",
              "      <td>Valve</td>\n",
              "      <td>Valve</td>\n",
              "      <td>NaN</td>\n",
              "      <td>NaN</td>\n",
              "      <td>Free</td>\n",
              "      <td>...</td>\n",
              "      <td>True</td>\n",
              "      <td>False</td>\n",
              "      <td>True</td>\n",
              "      <td>1</td>\n",
              "      <td>Very Positive</td>\n",
              "      <td>87.0</td>\n",
              "      <td>8062218.0</td>\n",
              "      <td>Mostly Positive</td>\n",
              "      <td>79.0</td>\n",
              "      <td>57466.0</td>\n",
              "    </tr>\n",
              "    <tr>\n",
              "      <th>1</th>\n",
              "      <td>570</td>\n",
              "      <td>Dota 2</td>\n",
              "      <td>9 Jul, 2013</td>\n",
              "      <td>Action, Strategy, Free to Play</td>\n",
              "      <td>Steam Trading Cards, Steam Workshop, SteamVR C...</td>\n",
              "      <td>Valve</td>\n",
              "      <td>Valve</td>\n",
              "      <td>NaN</td>\n",
              "      <td>NaN</td>\n",
              "      <td>Free</td>\n",
              "      <td>...</td>\n",
              "      <td>True</td>\n",
              "      <td>True</td>\n",
              "      <td>True</td>\n",
              "      <td>0</td>\n",
              "      <td>Very Positive</td>\n",
              "      <td>81.0</td>\n",
              "      <td>2243112.0</td>\n",
              "      <td>Mostly Positive</td>\n",
              "      <td>72.0</td>\n",
              "      <td>23395.0</td>\n",
              "    </tr>\n",
              "    <tr>\n",
              "      <th>2</th>\n",
              "      <td>2215430</td>\n",
              "      <td>Ghost of Tsushima DIRECTOR'S CUT</td>\n",
              "      <td>16 May, 2024</td>\n",
              "      <td>Action, Adventure</td>\n",
              "      <td>Single-player, Online Co-op, Steam Achievement...</td>\n",
              "      <td>Sucker Punch Productions</td>\n",
              "      <td>PlayStation PC LLC</td>\n",
              "      <td>NaN</td>\n",
              "      <td>NaN</td>\n",
              "      <td>₹3,999.00</td>\n",
              "      <td>...</td>\n",
              "      <td>True</td>\n",
              "      <td>False</td>\n",
              "      <td>False</td>\n",
              "      <td>0</td>\n",
              "      <td>Very Positive</td>\n",
              "      <td>89.0</td>\n",
              "      <td>12294.0</td>\n",
              "      <td>NaN</td>\n",
              "      <td>NaN</td>\n",
              "      <td>NaN</td>\n",
              "    </tr>\n",
              "    <tr>\n",
              "      <th>3</th>\n",
              "      <td>1245620</td>\n",
              "      <td>ELDEN RING</td>\n",
              "      <td>24 Feb, 2022</td>\n",
              "      <td>Action, RPG</td>\n",
              "      <td>Single-player, Online PvP, Online Co-op, Steam...</td>\n",
              "      <td>FromSoftware Inc.</td>\n",
              "      <td>FromSoftware Inc.</td>\n",
              "      <td>NaN</td>\n",
              "      <td>NaN</td>\n",
              "      <td>₹3,599.00</td>\n",
              "      <td>...</td>\n",
              "      <td>True</td>\n",
              "      <td>False</td>\n",
              "      <td>False</td>\n",
              "      <td>6</td>\n",
              "      <td>Very Positive</td>\n",
              "      <td>93.0</td>\n",
              "      <td>605191.0</td>\n",
              "      <td>Very Positive</td>\n",
              "      <td>94.0</td>\n",
              "      <td>7837.0</td>\n",
              "    </tr>\n",
              "    <tr>\n",
              "      <th>4</th>\n",
              "      <td>1085660</td>\n",
              "      <td>Destiny 2</td>\n",
              "      <td>1 Oct, 2019</td>\n",
              "      <td>Action, Adventure, Free to Play</td>\n",
              "      <td>Single-player, Online PvP, Online Co-op, Steam...</td>\n",
              "      <td>Bungie</td>\n",
              "      <td>Bungie</td>\n",
              "      <td>NaN</td>\n",
              "      <td>NaN</td>\n",
              "      <td>Free</td>\n",
              "      <td>...</td>\n",
              "      <td>True</td>\n",
              "      <td>False</td>\n",
              "      <td>False</td>\n",
              "      <td>0</td>\n",
              "      <td>Very Positive</td>\n",
              "      <td>80.0</td>\n",
              "      <td>594713.0</td>\n",
              "      <td>Mostly Positive</td>\n",
              "      <td>73.0</td>\n",
              "      <td>4845.0</td>\n",
              "    </tr>\n",
              "  </tbody>\n",
              "</table>\n",
              "<p>5 rows × 24 columns</p>\n",
              "</div>"
            ],
            "text/plain": [
              "    app_id                             title  release_date  \\\n",
              "0      730                  Counter-Strike 2  21 Aug, 2012   \n",
              "1      570                            Dota 2   9 Jul, 2013   \n",
              "2  2215430  Ghost of Tsushima DIRECTOR'S CUT  16 May, 2024   \n",
              "3  1245620                        ELDEN RING  24 Feb, 2022   \n",
              "4  1085660                         Destiny 2   1 Oct, 2019   \n",
              "\n",
              "                            genres  \\\n",
              "0             Action, Free to Play   \n",
              "1   Action, Strategy, Free to Play   \n",
              "2                Action, Adventure   \n",
              "3                      Action, RPG   \n",
              "4  Action, Adventure, Free to Play   \n",
              "\n",
              "                                          categories  \\\n",
              "0  Cross-Platform Multiplayer, Steam Trading Card...   \n",
              "1  Steam Trading Cards, Steam Workshop, SteamVR C...   \n",
              "2  Single-player, Online Co-op, Steam Achievement...   \n",
              "3  Single-player, Online PvP, Online Co-op, Steam...   \n",
              "4  Single-player, Online PvP, Online Co-op, Steam...   \n",
              "\n",
              "                  developer           publisher original_price  \\\n",
              "0                     Valve               Valve            NaN   \n",
              "1                     Valve               Valve            NaN   \n",
              "2  Sucker Punch Productions  PlayStation PC LLC            NaN   \n",
              "3         FromSoftware Inc.   FromSoftware Inc.            NaN   \n",
              "4                    Bungie             Bungie             NaN   \n",
              "\n",
              "  discount_percentage discounted_price  ...  win_support  mac_support  \\\n",
              "0                 NaN             Free  ...         True        False   \n",
              "1                 NaN             Free  ...         True         True   \n",
              "2                 NaN        ₹3,999.00  ...         True        False   \n",
              "3                 NaN        ₹3,599.00  ...         True        False   \n",
              "4                 NaN             Free  ...         True        False   \n",
              "\n",
              "  linux_support awards  overall_review  overall_review_%  \\\n",
              "0          True      1   Very Positive              87.0   \n",
              "1          True      0   Very Positive              81.0   \n",
              "2         False      0   Very Positive              89.0   \n",
              "3         False      6   Very Positive              93.0   \n",
              "4         False      0   Very Positive              80.0   \n",
              "\n",
              "   overall_review_count    recent_review recent_review_%  recent_review_count  \n",
              "0             8062218.0  Mostly Positive            79.0              57466.0  \n",
              "1             2243112.0  Mostly Positive            72.0              23395.0  \n",
              "2               12294.0              NaN             NaN                  NaN  \n",
              "3              605191.0    Very Positive            94.0               7837.0  \n",
              "4              594713.0  Mostly Positive            73.0               4845.0  \n",
              "\n",
              "[5 rows x 24 columns]"
            ]
          },
          "execution_count": 2,
          "metadata": {},
          "output_type": "execute_result"
        }
      ],
      "source": [
        "data = pd.read_csv(\"steam-games.csv\")\n",
        "data.head(5)\n"
      ]
    },
    {
      "cell_type": "markdown",
      "metadata": {
        "id": "CORU0CnIrnU9"
      },
      "source": [
        "# Análisis de preprocesamiento"
      ]
    },
    {
      "cell_type": "markdown",
      "metadata": {
        "id": "GNuAlQqJfpE1"
      },
      "source": [
        "En este paso analizamos los datos, sus tipos y la cantidad de nulos para conocer la estructura de los datos y luego ser procesados en el siguiente paso."
      ]
    },
    {
      "cell_type": "code",
      "execution_count": 3,
      "metadata": {
        "colab": {
          "base_uri": "https://localhost:8080/"
        },
        "id": "HM3Yt32GYUxW",
        "outputId": "01c3f4e6-0583-4d95-eaf7-75c0b5533ae9"
      },
      "outputs": [
        {
          "data": {
            "text/plain": [
              "(42497, 24)"
            ]
          },
          "execution_count": 3,
          "metadata": {},
          "output_type": "execute_result"
        }
      ],
      "source": [
        "data.shape"
      ]
    },
    {
      "cell_type": "code",
      "execution_count": 4,
      "metadata": {
        "colab": {
          "base_uri": "https://localhost:8080/"
        },
        "id": "eIIBIdML92TT",
        "outputId": "578844f4-3d6a-4b07-9929-071e555fde4e"
      },
      "outputs": [
        {
          "data": {
            "text/plain": [
              "app_id                      0\n",
              "title                       0\n",
              "release_date               57\n",
              "genres                     87\n",
              "categories                 45\n",
              "developer                 190\n",
              "publisher                 211\n",
              "original_price          37638\n",
              "discount_percentage     37638\n",
              "discounted_price          240\n",
              "dlc_available               0\n",
              "age_rating                  0\n",
              "content_descriptor      40122\n",
              "about_description         138\n",
              "win_support                 0\n",
              "mac_support                 0\n",
              "linux_support               0\n",
              "awards                      0\n",
              "overall_review           2477\n",
              "overall_review_%         2477\n",
              "overall_review_count     2477\n",
              "recent_review           36994\n",
              "recent_review_%         36994\n",
              "recent_review_count     36994\n",
              "dtype: int64"
            ]
          },
          "execution_count": 4,
          "metadata": {},
          "output_type": "execute_result"
        }
      ],
      "source": [
        "data.isnull().sum()"
      ]
    },
    {
      "cell_type": "code",
      "execution_count": 5,
      "metadata": {
        "colab": {
          "base_uri": "https://localhost:8080/"
        },
        "id": "LpaTC2-Zcfmh",
        "outputId": "45916c1e-48f6-4b39-c7e0-7e20441c59f7"
      },
      "outputs": [
        {
          "data": {
            "text/plain": [
              "app_id                    int64\n",
              "title                    object\n",
              "release_date             object\n",
              "genres                   object\n",
              "categories               object\n",
              "developer                object\n",
              "publisher                object\n",
              "original_price           object\n",
              "discount_percentage      object\n",
              "discounted_price         object\n",
              "dlc_available             int64\n",
              "age_rating                int64\n",
              "content_descriptor       object\n",
              "about_description        object\n",
              "win_support                bool\n",
              "mac_support                bool\n",
              "linux_support              bool\n",
              "awards                    int64\n",
              "overall_review           object\n",
              "overall_review_%        float64\n",
              "overall_review_count    float64\n",
              "recent_review            object\n",
              "recent_review_%         float64\n",
              "recent_review_count     float64\n",
              "dtype: object"
            ]
          },
          "execution_count": 5,
          "metadata": {},
          "output_type": "execute_result"
        }
      ],
      "source": [
        "data.dtypes"
      ]
    },
    {
      "cell_type": "code",
      "execution_count": 6,
      "metadata": {
        "colab": {
          "base_uri": "https://localhost:8080/"
        },
        "id": "JRgHHwDzr1o3",
        "outputId": "6db788d2-d30e-4cf0-e764-6fa8a5321b9c"
      },
      "outputs": [
        {
          "name": "stdout",
          "output_type": "stream",
          "text": [
            "0\n"
          ]
        }
      ],
      "source": [
        "duplicate_rows = data[data.duplicated(subset=['title', 'publisher', 'developer'])]\n",
        "print(len(duplicate_rows))"
      ]
    },
    {
      "cell_type": "markdown",
      "metadata": {
        "id": "Ps6ST73p_YhH"
      },
      "source": [
        "Podemos observar que se trata de un set de datos que cuenta con 42.497 datos para 24 columnas. Cuenta con varias columnas con datos nulos y distintos tipos de datos (enteros, booleanos, cadenas, flotantes). No tiene juegos duplicados (si tiene titulos repetidos pero al no ser del mismo 'publisher' ni 'developer' consideramos que se trata de juegos distintos)."
      ]
    },
    {
      "cell_type": "markdown",
      "metadata": {
        "id": "X14CknoqrwTa"
      },
      "source": [
        "# Preprocesamiento de los datos"
      ]
    },
    {
      "cell_type": "markdown",
      "metadata": {
        "id": "vCXHt8TJDEJZ"
      },
      "source": [
        "Creamos una copia del dataset original para que no sea alterado y trabajaremos sobre la copia"
      ]
    },
    {
      "cell_type": "code",
      "execution_count": 7,
      "metadata": {
        "id": "yfeXy9XNEsfN"
      },
      "outputs": [],
      "source": [
        "data_cpy = data.copy()"
      ]
    },
    {
      "cell_type": "markdown",
      "metadata": {
        "id": "Nq-_tAQ5iltq"
      },
      "source": [
        "## Imputacion de Nulls"
      ]
    },
    {
      "cell_type": "markdown",
      "metadata": {
        "id": "teLrVubsG6Z_"
      },
      "source": [
        "En esta sección se busca resolver los valores nulos del dataset. Hay diferentes formas de resolverlo, y las irémos aplicando a continuación.\n",
        "\n",
        "---\n",
        "\n"
      ]
    },
    {
      "cell_type": "markdown",
      "metadata": {
        "id": "kKWpO_r73qtj"
      },
      "source": [
        "Empezando por la columna \"release_date\", como son pocos los nulos buscamos en Steam o Google y los completamos"
      ]
    },
    {
      "cell_type": "code",
      "execution_count": 8,
      "metadata": {
        "colab": {
          "base_uri": "https://localhost:8080/"
        },
        "id": "k6uHgR-V4lO_",
        "outputId": "503936e4-9ce9-4160-f176-eb2bed6b7f32"
      },
      "outputs": [
        {
          "name": "stdout",
          "output_type": "stream",
          "text": [
            "La cantidad de datos nulos en 'release_date' son: 57\n"
          ]
        }
      ],
      "source": [
        "cant_nulos_release_date = data_cpy.isnull().sum()[\"release_date\"]\n",
        "print (\"La cantidad de datos nulos en 'release_date' son: \" + str(cant_nulos_release_date))\n",
        "\n",
        "arr_release_date = np.array(['27 Oct, 2010', '13 Nov, 2009', '18 Feb, 2009', '20 Oct, 2011', '1 Nov, 2015', '25 Feb, 2010', '1 Sep, 2015', '8 Oct, 2014', '4 Mar, 2009', '15 Apr, 2010', '30 Apr, 2012', '16 Feb, 2010', '14 Feb, 2020', '24 Oct, 2011', '4 Oct, 2016', '26 Oct, 2006', '7 Oct, 2014', '7 Sep, 2012', '26 May, 2015', '24 Apr, 2012', '10 Sep, 2004', '1 Mar, 2012', '6 May, 2014', '23 Jul, 2013', '19 Dec, 2011', '1 Jun, 2012', '4 Oct, 2010', '4 Mar, 2020', '17 Dec, 2012', '1 Jun, 1991', '11 Sep, 2012', '31 May, 2022', '18 May, 2010', '24 Nov, 1988', '12 Dec, 2009', '12 Apr, 2020', '12 Sep, 2013', '30 Aug, 2010', '21 May, 2015', '10 Dec, 2013', '17 Jul, 2009', '22 Jun, 2010', '20 Jul, 2010', '18 Jul, 2008', '7 Jun, 2013', '14 Aug, 2012', '4 Mar, 2014', '22 May, 2015', '16 Oct, 2006', '14 Nov, 2007', '5 Dec, 2012', '2 Jun, 2015', '27 Aug, 2008', '9 May, 2008', '16 May, 2011', '26 Oct, 2015', '29 Aug, 2008'])\n"
      ]
    },
    {
      "cell_type": "markdown",
      "metadata": {
        "id": "Bz44nVQ_lvHS"
      },
      "source": [
        "Lo mismo hacemos con las columnas \"genres\" y \"categories\"."
      ]
    },
    {
      "cell_type": "code",
      "execution_count": 9,
      "metadata": {
        "colab": {
          "base_uri": "https://localhost:8080/"
        },
        "id": "G7056sd1l7X6",
        "outputId": "26dc8461-8e8e-42e4-de13-3a5acce4ff97"
      },
      "outputs": [
        {
          "name": "stdout",
          "output_type": "stream",
          "text": [
            "La cantidad de datos nulos en 'genres' son: 87\n"
          ]
        },
        {
          "data": {
            "text/plain": [
              "(87,)"
            ]
          },
          "execution_count": 9,
          "metadata": {},
          "output_type": "execute_result"
        }
      ],
      "source": [
        "cant_nulos_genres = data_cpy.isnull().sum()[\"genres\"]\n",
        "print (\"La cantidad de datos nulos en 'genres' son: \" + str(cant_nulos_genres))\n",
        "\n",
        "arr_genres = np.array(['RPG', 'Adventure', 'Action, Adventure, RPG', 'Action, Adventure', 'RPG', 'Action, RPG, Adventure', 'Strategy', 'Strategy', 'Strategy', 'Adventure, Indie', 'Strategy', 'Adventure', 'Simulation', 'RPG, Strategy', 'Indie, Simulation', 'Adventure, Simulation, Strategy', 'Casual, Indie, RPG', 'Cusual', 'Strategy', 'Action, Adventure, RPG', 'Action, Adventure', 'Action', 'Action, RPG', 'Action', 'Cusual, Indie, Strategy', 'Action', 'Action, RPG', 'Casual, Strategy', 'Casual', 'Action, Adventure', 'Casual', 'Simulation', 'Strategy', 'Casual, Indie', 'Casual', 'Adventure', 'Action', 'Strategy', 'Strategy', 'Action, Adventure', 'Action', 'Action, Indie, Simulation, Strategy', 'Adventure', 'Action, Indie, Simulation, Strategy', 'Casual', 'Casual', 'Action', 'Action, Simulation', 'Action', 'Casual', 'Action, Indie', 'Casual', 'Action', 'Action', 'Casual', 'Action', 'Strategy', 'Action, Adventure', 'Action', 'Strategy', 'Casual', 'Action', 'Action, Simulation, Strategy', 'Action, RPG', 'Casual', 'Action, Adventure', 'RPG', 'Strategy', 'Action', 'Casual', 'Action, Adventure', 'Adventure', 'Simulation', 'Adventure, Indie', 'Casual, Simulation', 'RPG', 'Action, Indie', 'Adventure', 'Strategy', 'Violent, Action', 'Casual', 'Action, Violent', 'Action', 'Strategy', 'Action, Simulation', 'Indie', 'Casual, Indie'])\n",
        "\n",
        "arr_genres.shape"
      ]
    },
    {
      "cell_type": "code",
      "execution_count": 10,
      "metadata": {
        "colab": {
          "base_uri": "https://localhost:8080/"
        },
        "id": "9Wg06CBKB8cc",
        "outputId": "70dd1381-0ae8-4cb0-a6e0-4485c32fedaa"
      },
      "outputs": [
        {
          "name": "stdout",
          "output_type": "stream",
          "text": [
            "La cantidad de datos nulos en 'release_date' son: 0\n"
          ]
        }
      ],
      "source": [
        "data_cpy.loc[data_cpy['release_date'].isnull(), 'release_date'] = arr_release_date\n",
        "\n",
        "cant_nulos_release_date = data_cpy.isnull().sum()[\"release_date\"]\n",
        "print (\"La cantidad de datos nulos en 'release_date' son: \" + str(cant_nulos_release_date))"
      ]
    },
    {
      "cell_type": "code",
      "execution_count": 11,
      "metadata": {
        "colab": {
          "base_uri": "https://localhost:8080/"
        },
        "id": "LqoMfUW2CLon",
        "outputId": "c88cbedf-2a5d-477c-d441-99ba3f8c9a19"
      },
      "outputs": [
        {
          "name": "stdout",
          "output_type": "stream",
          "text": [
            "La cantidad de datos nulos en 'genres' son: 0\n"
          ]
        }
      ],
      "source": [
        "data_cpy.loc[data_cpy['genres'].isnull(), 'genres'] = arr_genres\n",
        "\n",
        "cant_nulos_genres = data_cpy.isnull().sum()[\"genres\"]\n",
        "print (\"La cantidad de datos nulos en 'genres' son: \" + str(cant_nulos_genres))"
      ]
    },
    {
      "cell_type": "code",
      "execution_count": 12,
      "metadata": {
        "colab": {
          "base_uri": "https://localhost:8080/"
        },
        "id": "4n0g9s8b0oqU",
        "outputId": "5a0d90c9-31e3-4af5-e1e5-fb586e810d84"
      },
      "outputs": [
        {
          "name": "stdout",
          "output_type": "stream",
          "text": [
            "La cantidad de datos nulos en 'categories' son: 45\n"
          ]
        },
        {
          "data": {
            "text/plain": [
              "(45,)"
            ]
          },
          "execution_count": 12,
          "metadata": {},
          "output_type": "execute_result"
        }
      ],
      "source": [
        "cant_nulos_categories = data_cpy.isnull().sum()[\"categories\"]\n",
        "print (\"La cantidad de datos nulos en 'categories' son: \" + str(cant_nulos_categories))\n",
        "\n",
        "arr_categories = np.array(['Single-player, Downloadable Content, Steam Achievements, Steam Cloud, Remote Play on Phone, Remote Play on Tablet, Family Sharing', 'Single-player, Downloadable Content, Steam Achievements, Steam Trading Cards, In-App Purchases, Steam Cloud, Family Sharing', 'Single-player, Downloadable Content, Steam Achievements, Steam Trading Cards, Steam Cloud, Steam Leaderboards, Remote Play on Phone, Remote Play on Tablet, Remote Play on TV, Family Sharing', 'Single-player, Downloadable Content, Steam Achievements, Steam Cloud, Remote Play on Phone, Remote Play on Tablet, Remote Play on TV, Family Sharing', 'Single-player, Steam Trading Cards, Steam Cloud, Family Sharing', 'Single-player, Downloadable Content, Steam Achievements, Steam Trading Cards, Steam Cloud, Stats, Steam Leaderboards, Family Sharing', 'Single-player, Downloadable Content, Steam Achievements, Steam Trading Cards, Steam Cloud, Stats, Steam Leaderboards, Family Sharing', 'Single-player, Steam Achievements, Steam Trading Cards, Steam Cloud, Stats, Steam Leaderboards, Family Sharing', 'Single-player, Steam Cloud, Family Sharing', 'Single-player, Downloadable Content, Steam Achievements, Steam Trading Cards, Steam Cloud, Remote Play on TV, Family Sharing', 'Single-player, Downloadable Content, Steam Achievements, Steam Trading Cards, Captions available, In-App Purchases, Steam Cloud, Steam Leaderboards, Remote Play on Phone, Remote Play on Tablet, Remote Play on TV, Family Sharing', 'Single-player', 'Single-player, Online PvP, Downloadable Content, Steam Achievements, Steam Trading Cards, In-App Purchases, Steam Cloud, HDR available, Family Sharing', 'Single-player, Online PvP, Online Co-op, Downloadable Content, Steam Achievements, Steam Trading Cards, Steam Workshop, Steam Cloud, Valve Anti-Cheat enabled, Includes level editor, Remote Play on Tablet, Remote Play on TV, Family Sharing', 'Single-player, Online PvP, Shared/Split Screen PvP, Downloadable Content, Steam Achievements, Steam Trading Cards, In-App Purchases, Steam Cloud, Remote Play on Phone, Remote Play on Tablet, Remote Play on TV, Remote Play Together, HDR available, Family Sharing', 'Single-player, Downloadable Content, Steam Achievements, Steam Trading Cards, Steam Cloud, Remote Play on Phone, Remote Play on Tablet, Remote Play on TV, Family Sharing', 'Single-player, Downloadable Content, Steam Achievements, Steam Cloud, Steam Leaderboards, Remote Play on Tablet, Remote Play on TV, Family Sharing', 'Single-player, Steam Achievements, Family Sharing', 'Single-player, Online PvP, Downloadable Content, Steam Achievements, Steam Trading Cards, In-App Purchases, Steam Cloud, HDR available, Family Sharing', 'Single-player, Downloadable Content, Steam Achievements, Steam Cloud, Steam Leaderboards, Family Sharing', 'Single-player, Online PvP, Online Co-op, Downloadable Content, Steam Achievements, Steam Trading Cards, Steam Workshop, In-App Purchases, Steam Cloud, Stats, Steam Leaderboards, Includes level editor, Family Sharing', 'Single-player, Online PvP, Online Co-op, Downloadable Content, Steam Achievements, Steam Trading Cards, Steam Workshop, In-App Purchases, Steam Cloud, Stats, Steam Leaderboards, Includes level editor, Family Sharing', 'Single-player, Steam Achievements, Steam Cloud, Steam Leaderboards, Family Sharing', 'Single-player, Shared/Split Screen PvP, Downloadable Content, Steam Achievements, Steam Trading Cards, Steam Cloud, Steam Leaderboards, Remote Play on Phone, Remote Play on Tablet, Remote Play on TV, Remote Play Together, Family Sharing', 'Single-player, Steam Achievements, Family Sharing', 'Single-player, Downloadable Content, Steam Achievements, Steam Trading Cards, Captions available, Steam Cloud, Remote Play on TV, Family Sharing', 'Steam Achievements, Steam Workshop, Steam Cloud, Stats, Includes level editor, Family Sharing', 'Single-player, Downloadable Content', 'Single-player, Steam Achievements, Steam Trading Cards, Steam Cloud, Remote Play on Tablet, Remote Play on TV, Family Sharing', 'Single-player, Online PvP, Online Co-op, Downloadable Content, Captions available, Includes level editor, Family Sharing', 'Single-player, Steam Achievements, Steam Cloud, Family Sharing', 'Online PvP, Downloadable Content', 'Single-player', 'Online PvP', 'Single-player, Steam Cloud, Remote Play on Phone, Remote Play on Tablet, Remote Play Together, Family Sharing', 'Single-player, Downloadable Content, Steam Achievements, Steam Trading Cards, Steam Cloud, Remote Play on TV, Family Sharing', 'Single-player', 'Online PvP', 'Single-player, Online PvP, Online Co-op, Cross-Platform Multiplayer, Downloadable Content, Steam Achievements, Steam Trading Cards, In-App Purchases, Steam Cloud, Remote Play on TV, Family Sharing', 'Online PvP', 'Single-player, Online PvP, Downloadable Content, Steam Achievements, Steam Cloud, Family Sharing', 'Online PvP', 'Online PvP', 'Single-player, Online PvP, Downloadable Content, Steam Achievements, Steam Cloud, Family Sharing', 'Online PvP, Online Co-op'])\n",
        "\n",
        "arr_categories.shape"
      ]
    },
    {
      "cell_type": "code",
      "execution_count": 13,
      "metadata": {
        "colab": {
          "base_uri": "https://localhost:8080/"
        },
        "id": "Ksu6ToyOBpGN",
        "outputId": "074b4463-9a95-4b9c-b69b-e4aa9c9524e3"
      },
      "outputs": [
        {
          "name": "stdout",
          "output_type": "stream",
          "text": [
            "La cantidad de datos nulos en 'categories' son: 0\n"
          ]
        }
      ],
      "source": [
        "data_cpy.loc[data_cpy['categories'].isnull(), 'categories'] = arr_categories\n",
        "\n",
        "cant_nulos_categories = data_cpy.isnull().sum()[\"categories\"]\n",
        "print (\"La cantidad de datos nulos en 'categories' son: \" + str(cant_nulos_categories))"
      ]
    },
    {
      "cell_type": "markdown",
      "metadata": {
        "id": "kGPpuvJfnDW_"
      },
      "source": [
        "---\n",
        "A continuación se eliminan las filas que tengan valores nulos en release_date, genre, categories"
      ]
    },
    {
      "cell_type": "code",
      "execution_count": 14,
      "metadata": {
        "colab": {
          "base_uri": "https://localhost:8080/"
        },
        "id": "rTBY5EQogxUa",
        "outputId": "d134938b-1efc-4c3f-de92-731bac478376"
      },
      "outputs": [
        {
          "name": "stdout",
          "output_type": "stream",
          "text": [
            "La cantidad de datos nulos en 'release_date' son: 0\n"
          ]
        }
      ],
      "source": [
        "cant_nulos_release_date = data_cpy.isnull().sum()[\"release_date\"]\n",
        "print (\"La cantidad de datos nulos en 'release_date' son: \" + str(cant_nulos_release_date))"
      ]
    },
    {
      "cell_type": "code",
      "execution_count": 15,
      "metadata": {
        "colab": {
          "base_uri": "https://localhost:8080/"
        },
        "id": "Q9ppuVCdhF76",
        "outputId": "8d84d337-47b9-4380-8ba8-f40739a6dbe0"
      },
      "outputs": [
        {
          "name": "stdout",
          "output_type": "stream",
          "text": [
            "La cantidad de datos nulos en 'release_date' son: 0\n"
          ]
        }
      ],
      "source": [
        "data_cpy = data_cpy.dropna(subset=['release_date'])\n",
        "\n",
        "cant_nulos_release_date_after = data_cpy['release_date'].isnull().sum()\n",
        "print (\"La cantidad de datos nulos en 'release_date' son: \" + str(cant_nulos_release_date_after))"
      ]
    },
    {
      "cell_type": "code",
      "execution_count": 16,
      "metadata": {
        "colab": {
          "base_uri": "https://localhost:8080/"
        },
        "id": "1KqnEmlCgxNu",
        "outputId": "bc3e3734-ec56-4c75-adde-8e15fca2b4e3"
      },
      "outputs": [
        {
          "name": "stdout",
          "output_type": "stream",
          "text": [
            "La cantidad de datos nulos en 'genres' son: 0\n"
          ]
        }
      ],
      "source": [
        "cant_nulos_genres = data_cpy.isnull().sum()[\"genres\"]\n",
        "print (\"La cantidad de datos nulos en 'genres' son: \" + str(cant_nulos_genres))"
      ]
    },
    {
      "cell_type": "code",
      "execution_count": 17,
      "metadata": {
        "colab": {
          "base_uri": "https://localhost:8080/"
        },
        "id": "5tvyIQ-ThGNB",
        "outputId": "583e7f7f-d097-4ec1-a194-ed7342eab81b"
      },
      "outputs": [
        {
          "name": "stdout",
          "output_type": "stream",
          "text": [
            "La cantidad de datos nulos en 'genres' son: 0\n"
          ]
        }
      ],
      "source": [
        "data_cpy = data_cpy.dropna(subset=['genres'])\n",
        "\n",
        "cant_nulos_genres_after = data_cpy['genres'].isnull().sum()\n",
        "print (\"La cantidad de datos nulos en 'genres' son: \" + str(cant_nulos_genres_after))"
      ]
    },
    {
      "cell_type": "code",
      "execution_count": 18,
      "metadata": {
        "colab": {
          "base_uri": "https://localhost:8080/"
        },
        "id": "33BG_CvNgxGE",
        "outputId": "8116fdf6-544c-4d56-c784-11740a916c29"
      },
      "outputs": [
        {
          "name": "stdout",
          "output_type": "stream",
          "text": [
            "La cantidad de datos nulos en 'categories' son: 0\n"
          ]
        }
      ],
      "source": [
        "cant_nulos_categories = data_cpy.isnull().sum()[\"categories\"]\n",
        "print (\"La cantidad de datos nulos en 'categories' son: \" + str(cant_nulos_categories))"
      ]
    },
    {
      "cell_type": "code",
      "execution_count": 19,
      "metadata": {
        "colab": {
          "base_uri": "https://localhost:8080/"
        },
        "id": "dlku6qnSlBQf",
        "outputId": "46205da9-b2bc-4f49-8bcc-6a33102c4481"
      },
      "outputs": [
        {
          "name": "stdout",
          "output_type": "stream",
          "text": [
            "La cantidad de datos nulos en 'categories' son: 0\n"
          ]
        }
      ],
      "source": [
        "data_cpy = data_cpy.dropna(subset=['categories'])\n",
        "\n",
        "cant_nulos_categories_after = data_cpy['categories'].isnull().sum()\n",
        "print (\"La cantidad de datos nulos en 'categories' son: \" + str(cant_nulos_categories_after))"
      ]
    },
    {
      "cell_type": "markdown",
      "metadata": {
        "id": "enFAf-8yCpoQ"
      },
      "source": [
        "\n",
        "\n",
        "---\n",
        "\n",
        "\n",
        "Para la columna de \"developer\" y \"publisher\" agregamos el valor \"Unknown\" para los valores nulos"
      ]
    },
    {
      "cell_type": "code",
      "execution_count": 20,
      "metadata": {
        "colab": {
          "base_uri": "https://localhost:8080/"
        },
        "id": "s-_F5QbnC3N3",
        "outputId": "1c995c4a-c39b-4eaf-80b9-ed7f7c51cd8b"
      },
      "outputs": [
        {
          "name": "stdout",
          "output_type": "stream",
          "text": [
            "La cantidad de datos nulos en 'developer' son: 0\n",
            "La cantidad de datos nulos en 'publisher' son: 0\n"
          ]
        }
      ],
      "source": [
        "data_cpy.loc[data_cpy[\"developer\"].isnull(), \"developer\"] = \"Unknown\"\n",
        "\n",
        "cant_nulos_developer = data_cpy.isnull().sum()[\"developer\"]\n",
        "print (\"La cantidad de datos nulos en 'developer' son: \" + str(cant_nulos_developer))\n",
        "\n",
        "data_cpy.loc[data_cpy[\"publisher\"].isnull(), \"publisher\"] = \"Unknown\"\n",
        "\n",
        "cant_nulos_publisher = data_cpy.isnull().sum()[\"publisher\"]\n",
        "print (\"La cantidad de datos nulos en 'publisher' son: \" + str(cant_nulos_publisher))"
      ]
    },
    {
      "cell_type": "markdown",
      "metadata": {
        "id": "-Udd3IlaIhZb"
      },
      "source": [
        "---\n",
        "Para la columna del precio de descuento asumimos que los articulos que no tienen precio con el descuento son gratis"
      ]
    },
    {
      "cell_type": "code",
      "execution_count": 21,
      "metadata": {
        "id": "iK8fpHr6Ih0l"
      },
      "outputs": [],
      "source": [
        "data_cpy.loc[data_cpy[\"discounted_price\"].isnull(), \"discounted_price\"] = \"Free\""
      ]
    },
    {
      "cell_type": "markdown",
      "metadata": {
        "id": "YQ_D38ayJVr6"
      },
      "source": [
        "Si el discounted price es Free, el original price y el discount_percentage son 0."
      ]
    },
    {
      "cell_type": "code",
      "execution_count": 22,
      "metadata": {
        "id": "Grxv8tyII8OE"
      },
      "outputs": [],
      "source": [
        "data_cpy.loc[(data_cpy[\"discounted_price\"] == \"Free\") & (data_cpy[\"original_price\"].isnull()), \"original_price\"] = 0"
      ]
    },
    {
      "cell_type": "code",
      "execution_count": 23,
      "metadata": {
        "id": "ErqVwPUYJhB2"
      },
      "outputs": [],
      "source": [
        "data_cpy.loc[(data_cpy[\"discounted_price\"] == \"Free\") & (data_cpy[\"discount_percentage\"].isnull()), \"discount_percentage\"] = 0"
      ]
    },
    {
      "cell_type": "markdown",
      "metadata": {
        "id": "-vNX7QMxMVHG"
      },
      "source": [
        "Si el 'discounted_price' no es Free si ambos 'discounted_price' y 'original_price' son 0, asumimos que no se aplicaron descuentos y que el precio original es el mismo que el 'discounted_price'"
      ]
    },
    {
      "cell_type": "code",
      "execution_count": 24,
      "metadata": {
        "id": "0IegZnzKLuJ2"
      },
      "outputs": [],
      "source": [
        "data_cpy.loc[(data_cpy[\"discounted_price\"] != \"Free\") & (data_cpy[\"discount_percentage\"].isnull()) & (data_cpy[\"original_price\"].isnull()), \"discount_percentage\"] = '0'\n",
        "data_cpy.loc[(data_cpy[\"discounted_price\"] != \"Free\") & (data_cpy[\"discount_percentage\"] == '0') & (data_cpy[\"original_price\"].isnull()), \"original_price\"] = data_cpy[\"discounted_price\"]\n"
      ]
    },
    {
      "cell_type": "markdown",
      "metadata": {
        "id": "R-xTOIgoOr4f"
      },
      "source": [
        "---\n",
        "Para la columna \"content_descriptor\" si es null asumimos que no tiene contenido relevante que informar al jugador por lo agregamos el valor \"Not relevant content descriptor\""
      ]
    },
    {
      "cell_type": "code",
      "execution_count": 25,
      "metadata": {
        "id": "Gfxyt28XQPgG"
      },
      "outputs": [],
      "source": [
        "data_cpy.loc[data_cpy[\"content_descriptor\"].isnull(), \"content_descriptor\"] = \"Not relevant content descriptor\""
      ]
    },
    {
      "cell_type": "markdown",
      "metadata": {
        "id": "HkWixRPoQpG2"
      },
      "source": [
        "Para la columna \"about_description\" si el valor es null se reemplaza por \"Unknown\"\n",
        "\n"
      ]
    },
    {
      "cell_type": "code",
      "execution_count": 26,
      "metadata": {
        "id": "_KAlrolUQuzd"
      },
      "outputs": [],
      "source": [
        "data_cpy.loc[data_cpy[\"about_description\"].isnull(), \"about_description\"] = \"Unknown\""
      ]
    },
    {
      "cell_type": "markdown",
      "metadata": {
        "id": "wv814nwFRGH-"
      },
      "source": [
        "Para las columnas \"overall_review\" y \"recent_review\" si el valor es null se reemplaza por \"No reviews\"\n"
      ]
    },
    {
      "cell_type": "code",
      "execution_count": 27,
      "metadata": {
        "id": "C5odd8_Ago9o"
      },
      "outputs": [],
      "source": [
        "data_cpy.loc[data_cpy[\"overall_review\"].isnull(), \"overall_review\"] = \"No reviews\"\n",
        "data_cpy.loc[data_cpy[\"recent_review\"].isnull(), \"recent_review\"] = \"No reviews\""
      ]
    },
    {
      "cell_type": "code",
      "execution_count": 28,
      "metadata": {
        "colab": {
          "base_uri": "https://localhost:8080/"
        },
        "id": "V3sPX1cvgob-",
        "outputId": "2605b5c9-2e2d-49bd-bf53-f0588dde731c"
      },
      "outputs": [
        {
          "name": "stdout",
          "output_type": "stream",
          "text": [
            "La cantidad de datos nulos en 'overall_review' son: 0\n",
            "La cantidad de datos nulos en 'recent_review' son: 0\n"
          ]
        }
      ],
      "source": [
        "print(\"La cantidad de datos nulos en 'overall_review' son: \" + str(data_cpy[\"overall_review\"].isnull().sum()))\n",
        "print(\"La cantidad de datos nulos en 'recent_review' son: \" + str(data_cpy[\"recent_review\"].isnull().sum()))"
      ]
    },
    {
      "cell_type": "markdown",
      "metadata": {
        "id": "awsemlCEjuJ6"
      },
      "source": [
        "Para las columnas \"overall_review_%\" y \"recent_review_%\" si el valor es null se reemplaza por \"0%\"\n",
        "\n"
      ]
    },
    {
      "cell_type": "code",
      "execution_count": 29,
      "metadata": {
        "id": "Nf4UcZNgiANA"
      },
      "outputs": [],
      "source": [
        "data_cpy.loc[data_cpy[\"overall_review_%\"].isnull(), \"overall_review_%\"] = 0\n",
        "data_cpy.loc[data_cpy[\"recent_review_%\"].isnull(), \"recent_review_%\"] = 0"
      ]
    },
    {
      "cell_type": "code",
      "execution_count": 30,
      "metadata": {
        "colab": {
          "base_uri": "https://localhost:8080/"
        },
        "id": "EmY9tfVqhnXg",
        "outputId": "70b8cebd-1a4e-4667-b136-f5ee627df726"
      },
      "outputs": [
        {
          "name": "stdout",
          "output_type": "stream",
          "text": [
            "La cantidad de datos nulos en 'overall_review_%' son: 0\n",
            "La cantidad de datos nulos en 'recent_review_%' son: 0\n"
          ]
        }
      ],
      "source": [
        "print(\"La cantidad de datos nulos en 'overall_review_%' son: \" + str(data_cpy[\"overall_review_%\"].isnull().sum()))\n",
        "print(\"La cantidad de datos nulos en 'recent_review_%' son: \" + str(data_cpy[\"recent_review_%\"].isnull().sum()))"
      ]
    },
    {
      "cell_type": "markdown",
      "metadata": {
        "id": "y3xK4_fmj21P"
      },
      "source": [
        "Para las columnas \"overall_review__count\" y \"recent_review__count\" si el valor es null se reemplaza por '0'"
      ]
    },
    {
      "cell_type": "code",
      "execution_count": 31,
      "metadata": {
        "id": "eRSHWgTLi7Pw"
      },
      "outputs": [],
      "source": [
        "data_cpy.loc[data_cpy[\"overall_review_count\"].isnull(), \"overall_review_count\"] = 0\n",
        "data_cpy.loc[data_cpy[\"recent_review_count\"].isnull(), \"recent_review_count\"] = 0"
      ]
    },
    {
      "cell_type": "code",
      "execution_count": 32,
      "metadata": {
        "colab": {
          "base_uri": "https://localhost:8080/"
        },
        "id": "qgV0IQKDjO4U",
        "outputId": "120939bd-d21f-4c64-c207-2933b14b080e"
      },
      "outputs": [
        {
          "name": "stdout",
          "output_type": "stream",
          "text": [
            "La cantidad de datos nulos en 'overall_review_count' son: 0\n",
            "La cantidad de datos nulos en 'recent_review_count' son: 0\n"
          ]
        }
      ],
      "source": [
        "print(\"La cantidad de datos nulos en 'overall_review_count' son: \" + str(data_cpy[\"overall_review_count\"].isnull().sum()))\n",
        "print(\"La cantidad de datos nulos en 'recent_review_count' son: \" + str(data_cpy[\"recent_review_count\"].isnull().sum()))"
      ]
    },
    {
      "cell_type": "markdown",
      "metadata": {
        "id": "i76P0UEQfLld"
      },
      "source": [
        "\n",
        "\n",
        "---\n",
        "\n",
        "Podemos verificar a continuación que cubrimos todos los valores nulos."
      ]
    },
    {
      "cell_type": "code",
      "execution_count": 33,
      "metadata": {
        "colab": {
          "base_uri": "https://localhost:8080/"
        },
        "id": "J635GOTVfDzM",
        "outputId": "181572d8-a2d1-48fc-9f2e-3fc5b336ab9d"
      },
      "outputs": [
        {
          "data": {
            "text/plain": [
              "app_id                  0\n",
              "title                   0\n",
              "release_date            0\n",
              "genres                  0\n",
              "categories              0\n",
              "developer               0\n",
              "publisher               0\n",
              "original_price          0\n",
              "discount_percentage     0\n",
              "discounted_price        0\n",
              "dlc_available           0\n",
              "age_rating              0\n",
              "content_descriptor      0\n",
              "about_description       0\n",
              "win_support             0\n",
              "mac_support             0\n",
              "linux_support           0\n",
              "awards                  0\n",
              "overall_review          0\n",
              "overall_review_%        0\n",
              "overall_review_count    0\n",
              "recent_review           0\n",
              "recent_review_%         0\n",
              "recent_review_count     0\n",
              "dtype: int64"
            ]
          },
          "execution_count": 33,
          "metadata": {},
          "output_type": "execute_result"
        }
      ],
      "source": [
        "data_cpy.isnull().sum()"
      ]
    },
    {
      "cell_type": "markdown",
      "metadata": {
        "id": "YewK29eLirxH"
      },
      "source": [
        "## Conversion de tipos de Datos\n"
      ]
    },
    {
      "cell_type": "markdown",
      "metadata": {
        "id": "y8EQO_-EtNp4"
      },
      "source": [
        "Convertimos la columna 'title' de tipo object a 'str'"
      ]
    },
    {
      "cell_type": "code",
      "execution_count": 34,
      "metadata": {
        "id": "QsNtkqRGtFnY"
      },
      "outputs": [],
      "source": [
        "tipo_de_dato_title = data_cpy['title'].dtype"
      ]
    },
    {
      "cell_type": "code",
      "execution_count": 35,
      "metadata": {
        "colab": {
          "base_uri": "https://localhost:8080/"
        },
        "id": "PyCxREDBsrUs",
        "outputId": "9b756f2f-2504-4fea-ce32-75bb5b69afb6"
      },
      "outputs": [
        {
          "data": {
            "text/plain": [
              "dtype('O')"
            ]
          },
          "execution_count": 35,
          "metadata": {},
          "output_type": "execute_result"
        }
      ],
      "source": [
        "data_cpy['title'] = data_cpy['title'].astype('str')\n",
        "data_cpy['title'].dtype"
      ]
    },
    {
      "cell_type": "markdown",
      "metadata": {
        "id": "zu66z8i1tfWe"
      },
      "source": [
        "---\n",
        "Convertimos 'release_date' de tipo object a 'datetime'"
      ]
    },
    {
      "cell_type": "code",
      "execution_count": 36,
      "metadata": {
        "colab": {
          "base_uri": "https://localhost:8080/"
        },
        "id": "XImZsdETDJ4Y",
        "outputId": "7e6f0e7b-dbb0-4c48-f078-d4284e640a4e"
      },
      "outputs": [
        {
          "data": {
            "text/plain": [
              "dtype('O')"
            ]
          },
          "execution_count": 36,
          "metadata": {},
          "output_type": "execute_result"
        }
      ],
      "source": [
        "data_cpy['release_date'].dtype"
      ]
    },
    {
      "cell_type": "markdown",
      "metadata": {
        "id": "7SRKRY0KDEE9"
      },
      "source": [
        "Analizamos como es el formato para ver si pueden ser convertidos a datetime"
      ]
    },
    {
      "cell_type": "code",
      "execution_count": 37,
      "metadata": {
        "colab": {
          "base_uri": "https://localhost:8080/"
        },
        "id": "gU8FsNqhDOQN",
        "outputId": "cc7408ea-9905-417b-cf26-501c4f51ab43"
      },
      "outputs": [
        {
          "data": {
            "text/plain": [
              "0    21 Aug, 2012\n",
              "1     9 Jul, 2013\n",
              "2    16 May, 2024\n",
              "3    24 Feb, 2022\n",
              "4     1 Oct, 2019\n",
              "Name: release_date, dtype: object"
            ]
          },
          "execution_count": 37,
          "metadata": {},
          "output_type": "execute_result"
        }
      ],
      "source": [
        "data_cpy['release_date'].head(5)"
      ]
    },
    {
      "cell_type": "markdown",
      "metadata": {
        "id": "UcPJI5UWDQxY"
      },
      "source": [
        "Vemos que parecen tener el siguiente formato '%d %b, %Y'"
      ]
    },
    {
      "cell_type": "code",
      "execution_count": 38,
      "metadata": {
        "id": "iFT95YdwDaYY"
      },
      "outputs": [],
      "source": [
        "data_cpy['release_date'] = data_cpy['release_date'].apply(lambda x: pd.to_datetime(x, format='%d %b, %Y',errors='ignore'))\n"
      ]
    },
    {
      "cell_type": "markdown",
      "metadata": {
        "id": "cVA6YRydCZQR"
      },
      "source": [
        "Intentamos convertir con ese formato a datetime y vemos cuantos y cuales son los valores que no pudieron ser convertidos."
      ]
    },
    {
      "cell_type": "code",
      "execution_count": 39,
      "metadata": {
        "id": "AtQDYbDDxwaE"
      },
      "outputs": [],
      "source": [
        "non_datetime_values = data_cpy.loc[~data_cpy['release_date'].apply(lambda x: isinstance(x, datetime.datetime)), 'release_date']"
      ]
    },
    {
      "cell_type": "code",
      "execution_count": 40,
      "metadata": {
        "colab": {
          "base_uri": "https://localhost:8080/"
        },
        "id": "vX-oRl31Cg-u",
        "outputId": "75b4d1fb-05ae-4e23-dccf-0155e0d7d952"
      },
      "outputs": [
        {
          "data": {
            "text/plain": [
              "(64,)"
            ]
          },
          "execution_count": 40,
          "metadata": {},
          "output_type": "execute_result"
        }
      ],
      "source": [
        "non_datetime_values.shape"
      ]
    },
    {
      "cell_type": "code",
      "execution_count": 41,
      "metadata": {
        "colab": {
          "base_uri": "https://localhost:8080/"
        },
        "id": "h4QEPqSFChrt",
        "outputId": "66af90dc-33eb-4aa9-bf12-10e60a3b2e17"
      },
      "outputs": [
        {
          "data": {
            "text/plain": [
              "274     Apr 2019\n",
              "425     Mar 2021\n",
              "991     Nov 2020\n",
              "1028    Nov 2014\n",
              "1451    Dec 2016\n",
              "Name: release_date, dtype: object"
            ]
          },
          "execution_count": 41,
          "metadata": {},
          "output_type": "execute_result"
        }
      ],
      "source": [
        "non_datetime_values.head()"
      ]
    },
    {
      "cell_type": "code",
      "execution_count": 42,
      "metadata": {
        "colab": {
          "base_uri": "https://localhost:8080/"
        },
        "id": "-T0L-m-XClMZ",
        "outputId": "6cb9b4da-d467-4e24-d897-1da9822a8126"
      },
      "outputs": [
        {
          "data": {
            "text/plain": [
              "array(['Apr 2019', 'Mar 2021', 'Nov 2020', 'Nov 2014', 'Dec 2016',\n",
              "       'Jan 2021', 'Apr 2022', 'Apr 2020', 'Aug 2015', 'Oct 2010',\n",
              "       'Jan 2019', 'Aug 2017', 'Dec 2012', 'Mar 2019', 'Jul 2010',\n",
              "       'May 2015', 'Jul 2016', 'Jan 2017', 'May 2014', 'Jun 2009',\n",
              "       'Dec 2019', 'Feb 2020', 'Mar 2010', 'Apr 2010', 'Jan 2022',\n",
              "       'Oct 2020', 'Apr 2015', 'Jun 2021', 'Jan 2018', 'Aug 2013',\n",
              "       'Dec 2020', 'Dec 2015', 'May 2019', 'Jul 2018', 'Aug 2021',\n",
              "       'May 2017', 'Feb 2022', 'Jul 2017', 'Jun 2015', 'Oct 2018',\n",
              "       'Oct 2009', 'Sep 2014', 'Sep 2016', 'Jul 2022', 'Sep 2019',\n",
              "       'Mar 2016', 'Apr 2016', 'Coming soon', 'Sep 2020', 'Jan 2010',\n",
              "       'To be announced', 'Nov 2021'], dtype=object)"
            ]
          },
          "execution_count": 42,
          "metadata": {},
          "output_type": "execute_result"
        }
      ],
      "source": [
        "non_datetime_values.unique()"
      ]
    },
    {
      "cell_type": "markdown",
      "metadata": {
        "id": "HUXBfnHvCp7m"
      },
      "source": [
        "Vemos que parece que los datos que no se pudieron convertir son del tipo '%b %Y' menos dos que son 'Coming soon' y 'To be announced'. Decidimos descartar esas filas."
      ]
    },
    {
      "cell_type": "code",
      "execution_count": 43,
      "metadata": {
        "id": "3YmggllWEj3d"
      },
      "outputs": [],
      "source": [
        "data_cpy = data_cpy[~data_cpy[\"release_date\"].isin([\"Coming soon\", \"To be announced\"])]"
      ]
    },
    {
      "cell_type": "markdown",
      "metadata": {
        "id": "beaood2CEoX0"
      },
      "source": [
        "Ajustamos formato de fecha para que sea '%d %b, %Y'"
      ]
    },
    {
      "cell_type": "code",
      "execution_count": 44,
      "metadata": {
        "id": "AUte5pcfEpIP"
      },
      "outputs": [],
      "source": [
        "def format_date(date):\n",
        "    try:\n",
        "        month, year = date.split()\n",
        "        date = f\"{month}, {year}\"\n",
        "        return pd.to_datetime('1 ' + date, format='%d %b, %Y')\n",
        "    except:\n",
        "        return date\n",
        "data_cpy['release_date'] = data_cpy['release_date'].apply(format_date)"
      ]
    },
    {
      "cell_type": "markdown",
      "metadata": {
        "id": "FWpLo8WxEt-a"
      },
      "source": [
        "Vemos que se convirtieron todos los datos a datetime con **formato '%d %b, %Y'**"
      ]
    },
    {
      "cell_type": "code",
      "execution_count": 45,
      "metadata": {
        "id": "KJGe8TIOEu97"
      },
      "outputs": [],
      "source": [
        "non_datetime_values = data_cpy.loc[~data_cpy['release_date'].apply(lambda x: isinstance(x, datetime.datetime)), 'release_date']"
      ]
    },
    {
      "cell_type": "code",
      "execution_count": 46,
      "metadata": {
        "colab": {
          "base_uri": "https://localhost:8080/"
        },
        "id": "c45Xm-qCEyD_",
        "outputId": "27f61760-fdad-41e4-f93e-af20c9a27510"
      },
      "outputs": [
        {
          "data": {
            "text/plain": [
              "(0,)"
            ]
          },
          "execution_count": 46,
          "metadata": {},
          "output_type": "execute_result"
        }
      ],
      "source": [
        "non_datetime_values.shape"
      ]
    },
    {
      "cell_type": "code",
      "execution_count": 47,
      "metadata": {
        "colab": {
          "base_uri": "https://localhost:8080/"
        },
        "id": "u3rN7fnHEzaP",
        "outputId": "6df62744-1057-4168-def6-0d76c50d7a3e"
      },
      "outputs": [
        {
          "data": {
            "text/plain": [
              "dtype('<M8[ns]')"
            ]
          },
          "execution_count": 47,
          "metadata": {},
          "output_type": "execute_result"
        }
      ],
      "source": [
        "data_cpy['release_date'].dtype"
      ]
    },
    {
      "cell_type": "markdown",
      "metadata": {
        "id": "Jxvpe_Lfjxss"
      },
      "source": [
        "\n",
        "---\n",
        "\n",
        "\n"
      ]
    },
    {
      "cell_type": "markdown",
      "metadata": {
        "id": "ujrR81XB41XE"
      },
      "source": [
        "Convertimos los porcentajes de 'recent_review_%' y 'overall_review_%' a enteros."
      ]
    },
    {
      "cell_type": "code",
      "execution_count": 48,
      "metadata": {
        "id": "0MiFCiFnkQO5"
      },
      "outputs": [],
      "source": [
        "data_cpy['recent_review_%'] = data_cpy['recent_review_%'].astype('Int64')\n",
        "data_cpy['overall_review_%'] = data_cpy['overall_review_%'].astype('Int64')"
      ]
    },
    {
      "cell_type": "markdown",
      "metadata": {
        "id": "-9Byct9BDFlv"
      },
      "source": [
        "Convertimos 'recent_review_count' y 'overall_review_count' a enteros."
      ]
    },
    {
      "cell_type": "code",
      "execution_count": 49,
      "metadata": {
        "id": "4gHcIFOhDVn3"
      },
      "outputs": [],
      "source": [
        "data_cpy['recent_review_count'] = data_cpy['recent_review_count'].astype('Int64')\n",
        "data_cpy['overall_review_count'] = data_cpy['overall_review_count'].astype('Int64')"
      ]
    },
    {
      "cell_type": "markdown",
      "metadata": {
        "id": "MvDEgX0k89ng"
      },
      "source": [
        "---\n",
        "Los precios los convertimos a numeros flotantes para poder trabajarlos de mejor manera. A su vez agregamos la moneda al nombre de la columna para poder tener la referencia correspondiente."
      ]
    },
    {
      "cell_type": "code",
      "execution_count": 50,
      "metadata": {
        "colab": {
          "base_uri": "https://localhost:8080/"
        },
        "id": "INj4O4tw9DsZ",
        "outputId": "d28d1530-da9a-4f33-ffc3-e3666a0de412"
      },
      "outputs": [
        {
          "data": {
            "text/plain": [
              "array(['Free', '₹3,999.00', '₹3,599.00', ..., '₹461.00', '₹1,075.00',\n",
              "       '₹150,000.00'], dtype=object)"
            ]
          },
          "execution_count": 50,
          "metadata": {},
          "output_type": "execute_result"
        }
      ],
      "source": [
        "data_cpy['discounted_price'].unique()"
      ]
    },
    {
      "cell_type": "code",
      "execution_count": 51,
      "metadata": {
        "id": "hegJ9OAT9ir1"
      },
      "outputs": [],
      "source": [
        "data_cpy['original_price'] = data_cpy['original_price'].replace('Free', '₹0.00')\n",
        "data_cpy['original_price'] = data_cpy['original_price'].replace('[₹,]', '', regex=True).astype(float)\n",
        "data_cpy.rename(columns={'original_price': 'original_price_INR'}, inplace=True)\n",
        "\n",
        "data_cpy['discounted_price'] = data_cpy['discounted_price'].replace('Free', '₹0.00')\n",
        "data_cpy['discounted_price'] = data_cpy['discounted_price'].replace('[₹,]', '', regex=True).astype(float)\n",
        "data_cpy.rename(columns={'discounted_price': 'discounted_price_INR'}, inplace=True)"
      ]
    },
    {
      "cell_type": "markdown",
      "metadata": {
        "id": "wyEu2kdD766T"
      },
      "source": [
        "---\n",
        "Así llegamos a los siguientes tipos de datos para toda la tabla"
      ]
    },
    {
      "cell_type": "code",
      "execution_count": 52,
      "metadata": {
        "colab": {
          "base_uri": "https://localhost:8080/"
        },
        "id": "RQM5sD4F8DNR",
        "outputId": "c7eb61b0-ff6a-429c-de45-650d32029d75"
      },
      "outputs": [
        {
          "data": {
            "text/plain": [
              "app_id                           int64\n",
              "title                           object\n",
              "release_date            datetime64[ns]\n",
              "genres                          object\n",
              "categories                      object\n",
              "developer                       object\n",
              "publisher                       object\n",
              "original_price_INR             float64\n",
              "discount_percentage             object\n",
              "discounted_price_INR           float64\n",
              "dlc_available                    int64\n",
              "age_rating                       int64\n",
              "content_descriptor              object\n",
              "about_description               object\n",
              "win_support                       bool\n",
              "mac_support                       bool\n",
              "linux_support                     bool\n",
              "awards                           int64\n",
              "overall_review                  object\n",
              "overall_review_%                 Int64\n",
              "overall_review_count             Int64\n",
              "recent_review                   object\n",
              "recent_review_%                  Int64\n",
              "recent_review_count              Int64\n",
              "dtype: object"
            ]
          },
          "execution_count": 52,
          "metadata": {},
          "output_type": "execute_result"
        }
      ],
      "source": [
        "data_cpy.dtypes"
      ]
    },
    {
      "cell_type": "markdown",
      "metadata": {
        "id": "KimmCd4kEx6D"
      },
      "source": [
        "## Validación de rangos de valores"
      ]
    },
    {
      "cell_type": "markdown",
      "metadata": {
        "id": "CrpSsKowp386"
      },
      "source": [
        "Se procede a borrar las filas que contienen valores con porcentajes invalidos (porcentajes menores que 0 o mayores a 100)"
      ]
    },
    {
      "cell_type": "code",
      "execution_count": 53,
      "metadata": {
        "colab": {
          "base_uri": "https://localhost:8080/"
        },
        "id": "Qa5IooglprNv",
        "outputId": "8c783261-dc9e-46b3-d4a3-c88b6f06bc4f"
      },
      "outputs": [
        {
          "name": "stdout",
          "output_type": "stream",
          "text": [
            "Cantidad de filas antes de filtrar: 42495\n",
            "Cantidad de filas después de filtrar: 42495\n"
          ]
        }
      ],
      "source": [
        "print(\"Cantidad de filas antes de filtrar:\", data_cpy.shape[0])\n",
        "\n",
        "data_cpy = data_cpy[(data_cpy['overall_review_%'] >= 0) & (data_cpy['overall_review_%'] <= 100)]\n",
        "data_cpy = data_cpy[(data_cpy['recent_review_%'] >= 0) & (data_cpy['recent_review_%'] <= 100)]\n",
        "\n",
        "print(\"Cantidad de filas después de filtrar:\", data_cpy.shape[0])\n",
        "\n"
      ]
    },
    {
      "cell_type": "markdown",
      "metadata": {
        "id": "MotGXTWx13Aq"
      },
      "source": [
        "\n",
        "Se procede a borrar las filas que contienen valores fuera de rango (por ejemplo, precios con valores negativos)\n",
        "\n"
      ]
    },
    {
      "cell_type": "code",
      "execution_count": 54,
      "metadata": {
        "colab": {
          "base_uri": "https://localhost:8080/"
        },
        "id": "dcBFxMpRpqxn",
        "outputId": "67120758-722d-404f-d8ce-6779f5af07ea"
      },
      "outputs": [
        {
          "name": "stdout",
          "output_type": "stream",
          "text": [
            "Cantidad de filas antes de filtrar: 42495\n",
            "Cantidad de filas después de filtrar: 42495\n"
          ]
        }
      ],
      "source": [
        "print(\"Cantidad de filas antes de filtrar:\", data_cpy.shape[0])\n",
        "\n",
        "data_cpy = data_cpy[(data_cpy['app_id'] >= 0)]\n",
        "data_cpy = data_cpy[(data_cpy['original_price_INR'] >= 0)]\n",
        "data_cpy = data_cpy[(data_cpy['discounted_price_INR'] >= 0)]\n",
        "data_cpy = data_cpy[(data_cpy['dlc_available'] >= 0)]\n",
        "data_cpy = data_cpy[(data_cpy['age_rating'] >= 0)]\n",
        "data_cpy = data_cpy[(data_cpy['awards'] >=  0)]\n",
        "data_cpy = data_cpy[(data_cpy['overall_review_count'] >= 0)]\n",
        "data_cpy = data_cpy[(data_cpy['recent_review_count'] >= 0)]\n",
        "\n",
        "print(\"Cantidad de filas después de filtrar:\", data_cpy.shape[0])"
      ]
    },
    {
      "cell_type": "markdown",
      "metadata": {
        "id": "6mxDKH5_kgfI"
      },
      "source": [
        "Cambiamos el nombre de las columnas que incluyen '%' para evitar problemas con sqlite."
      ]
    },
    {
      "cell_type": "code",
      "execution_count": 55,
      "metadata": {
        "id": "1YabNCFMkm2R"
      },
      "outputs": [],
      "source": [
        "data_cpy = data_cpy.rename(columns={'overall_review_%': 'overall_review_percentage', 'recent_review_%': 'recent_review_percentage'})"
      ]
    },
    {
      "cell_type": "markdown",
      "metadata": {
        "id": "rYjwl9Uyr1_R"
      },
      "source": [
        "# Carga de datos limpios en Base de Datos"
      ]
    },
    {
      "cell_type": "code",
      "execution_count": 56,
      "metadata": {
        "id": "dJP6cFEaAOAf"
      },
      "outputs": [],
      "source": [
        "import sqlite3\n",
        "\n",
        "# Conectar a la base de datos SQLite\n",
        "conn = sqlite3.connect('tpp_bdd.sqlite')\n",
        "cur = conn.cursor()\n",
        "\n",
        "# Crear la tabla principal 'games'\n",
        "cur.execute('''\n",
        "CREATE TABLE IF NOT EXISTS games (\n",
        "    app_id INTEGER PRIMARY KEY,\n",
        "    title TEXT,\n",
        "    release_date TEXT,\n",
        "    developer TEXT,\n",
        "    publisher TEXT,\n",
        "    original_price_INR REAL,\n",
        "    discount_percentage REAL,\n",
        "    discounted_price_INR REAL,\n",
        "    dlc_available INTEGER,\n",
        "    age_rating INTEGER,\n",
        "    content_descriptor TEXT,\n",
        "    about_description TEXT,\n",
        "    win_support BOOLEAN,\n",
        "    mac_support BOOLEAN,\n",
        "    linux_support BOOLEAN,\n",
        "    awards INTEGER,\n",
        "    overall_review TEXT,\n",
        "    overall_review_percentage INTEGER,\n",
        "    overall_review_count REAL,\n",
        "    recent_review TEXT,\n",
        "    recent_review_percentage INTEGER,\n",
        "    recent_review_count REAL\n",
        ")\n",
        "''')\n",
        "\n",
        "# Crear la tabla 'game_genres'\n",
        "cur.execute('''\n",
        "CREATE TABLE IF NOT EXISTS game_genres (\n",
        "    id INTEGER PRIMARY KEY AUTOINCREMENT,\n",
        "    app_id INTEGER,\n",
        "    genre TEXT,\n",
        "    FOREIGN KEY (app_id) REFERENCES games (app_id)\n",
        ")\n",
        "''')\n",
        "\n",
        "# Crear la tabla 'game_categories'\n",
        "cur.execute('''\n",
        "CREATE TABLE IF NOT EXISTS game_categories (\n",
        "    id INTEGER PRIMARY KEY AUTOINCREMENT,\n",
        "    app_id INTEGER,\n",
        "    category TEXT,\n",
        "    FOREIGN KEY (app_id) REFERENCES games (app_id)\n",
        ")\n",
        "''')\n",
        "\n",
        "# Confirmar los cambios\n",
        "conn.commit()\n",
        "\n",
        "\n",
        "# Insertar los datos del DataFrame 'df' en la tabla 'games'\n",
        "df_games = data_cpy[['app_id', 'title', 'release_date', 'developer', 'publisher', 'original_price_INR',\n",
        "               'discount_percentage', 'discounted_price_INR', 'dlc_available', 'age_rating',\n",
        "               'content_descriptor', 'about_description', 'win_support', 'mac_support',\n",
        "               'linux_support', 'awards', 'overall_review', 'overall_review_percentage', 'overall_review_count',\n",
        "               'recent_review', 'recent_review_percentage', 'recent_review_count']]\n",
        "\n",
        "df_games.to_sql('games', conn, if_exists='append', index=False)\n",
        "\n",
        "\n",
        "# Insertar datos en la tabla 'game_genres'\n",
        "genres_data = []\n",
        "for index, row in data_cpy.iterrows():\n",
        "    genres = str(row['genres']).split(',')\n",
        "    for genre in genres:\n",
        "        genres_data.append((row['app_id'], genre.strip()))\n",
        "\n",
        "cur.executemany('INSERT INTO game_genres (app_id, genre) VALUES (?, ?)', genres_data)\n",
        "\n",
        "# Insertar datos en la tabla 'game_categories'\n",
        "categories_data = []\n",
        "for index, row in data_cpy.iterrows():\n",
        "    categories = str(row['categories']).split(',')\n",
        "    for category in categories:\n",
        "        categories_data.append((row['app_id'], category.strip()))\n",
        "\n",
        "cur.executemany('INSERT INTO game_categories (app_id, category) VALUES (?, ?)', categories_data)\n",
        "\n",
        "conn.commit()\n",
        "conn.close()"
      ]
    }
  ],
  "metadata": {
    "colab": {
      "collapsed_sections": [
        "LPtiK4RDrZrK",
        "CORU0CnIrnU9",
        "Nq-_tAQ5iltq"
      ],
      "provenance": []
    },
    "kernelspec": {
      "display_name": "Python 3",
      "name": "python3"
    },
    "language_info": {
      "codemirror_mode": {
        "name": "ipython",
        "version": 3
      },
      "file_extension": ".py",
      "mimetype": "text/x-python",
      "name": "python",
      "nbconvert_exporter": "python",
      "pygments_lexer": "ipython3",
      "version": "3.9.7"
    }
  },
  "nbformat": 4,
  "nbformat_minor": 0
}
